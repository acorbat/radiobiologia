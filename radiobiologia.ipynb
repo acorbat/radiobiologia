{
 "cells": [
  {
   "cell_type": "markdown",
   "id": "8327c1c3-78ab-41f3-b062-eb76dbca6d56",
   "metadata": {},
   "source": [
    "# Temas Básicos de Radiobiología\n",
    "\n",
    "intro\n",
    "\n",
    "Para poder ejecutar los ejemplos, es necesario pararse en cada celda y hacer click en run (o apretar ctrl+enter)."
   ]
  },
  {
   "cell_type": "code",
   "execution_count": 2,
   "id": "f50f22fb-e72c-45cd-8f30-b9affb150b44",
   "metadata": {},
   "outputs": [],
   "source": [
    "import numpy as np\n",
    "import matplotlib.pyplot as plt\n",
    "from ipywidgets import interact"
   ]
  },
  {
   "cell_type": "code",
   "execution_count": 21,
   "id": "fc1ac704-3c08-48a2-a2fd-b08e044c6f95",
   "metadata": {},
   "outputs": [
    {
     "data": {
      "application/vnd.jupyter.widget-view+json": {
       "model_id": "44db463a342545ed9bbe47bd2c60dfc6",
       "version_major": 2,
       "version_minor": 0
      },
      "text/plain": [
       "interactive(children=(FloatSlider(value=5.0, description='alfa', max=10.0, min=0.1), FloatSlider(value=5.0, de…"
      ]
     },
     "metadata": {},
     "output_type": "display_data"
    }
   ],
   "source": [
    "@interact(alfa=(0.1, 10, 0.1), alfa_beta=(0, 11, 0.5))\n",
    "def plot(alfa, alfa_beta):\n",
    "    dosis = np.arange(0, 10, 0.1)\n",
    "    beta = alfa / alfa_beta\n",
    "    \n",
    "    comp_alfa = np.exp(-alfa*dosis)\n",
    "    comp_beta = np.exp(-beta*(dosis**2))\n",
    "    fraccion_supervivencia = comp_alfa * comp_beta\n",
    "    \n",
    "    fig, axs = plt.subplots(1, 2, figsize=(10, 5))\n",
    "    \n",
    "    for i in range(2):\n",
    "        axs[i].plot(dosis, fraccion_supervivencia)\n",
    "        axs[i].plot(dosis, comp_alfa)\n",
    "        axs[i].plot(dosis, comp_beta)\n",
    "        axs[i].axvline(x=alfa_beta, color='k', alpha=0.6, ls='--')\n",
    "        axs[i].set_ylabel('Fracción de Supervivencia')\n",
    "        axs[i].set_xlabel('Dosis (Gy)')\n",
    "    \n",
    "    axs[1].set_yscale('log')\n",
    "    plt.subplots_adjust(wspace=0.3)\n",
    "    plt.show()"
   ]
  },
  {
   "cell_type": "code",
   "execution_count": null,
   "id": "70fa8ddf-d3e8-4334-9450-26e374ec2c1f",
   "metadata": {},
   "outputs": [],
   "source": []
  }
 ],
 "metadata": {
  "kernelspec": {
   "display_name": "Python 3",
   "language": "python",
   "name": "python3"
  },
  "language_info": {
   "codemirror_mode": {
    "name": "ipython",
    "version": 3
   },
   "file_extension": ".py",
   "mimetype": "text/x-python",
   "name": "python",
   "nbconvert_exporter": "python",
   "pygments_lexer": "ipython3",
   "version": "3.9.4"
  }
 },
 "nbformat": 4,
 "nbformat_minor": 5
}
